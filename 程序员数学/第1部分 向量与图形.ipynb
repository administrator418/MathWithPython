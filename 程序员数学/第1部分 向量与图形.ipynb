{
 "cells": [
  {
   "cell_type": "markdown",
   "metadata": {},
   "source": [
    "# 第一部分 向量与图形"
   ]
  },
  {
   "cell_type": "markdown",
   "metadata": {},
   "source": [
    "## 1.0 几个基本概念\n",
    "\n",
    "vector(向量)\n",
    "\n",
    "linear transformation(线性变换):线性变换是一种函数，将一个向量作为输入并返回一个向量作为输出，同时保持所操作向量（在特殊意义上）的几何形状。例如，如果一个向量（点）的集合位于二维平面的一条直线上，在应用线性变换后，它们仍然会位于一条直线上。\n",
    "\n",
    "matrix(矩阵):矩阵是一种可以表示线性变换的矩形数组。\n",
    "\n",
    "vector space(向量空间)\n",
    "\n",
    "dimension(维度)\n",
    "\n",
    "system of linear equations(线性方程组)"
   ]
  },
  {
   "cell_type": "markdown",
   "metadata": {},
   "source": [
    "## 1.1 使用二维向量绘图\n"
   ]
  },
  {
   "cell_type": "code",
   "execution_count": null,
   "metadata": {},
   "outputs": [],
   "source": []
  }
 ],
 "metadata": {
  "kernelspec": {
   "display_name": "venv3.1",
   "language": "python",
   "name": "python3"
  },
  "language_info": {
   "name": "python",
   "version": "3.10.14"
  }
 },
 "nbformat": 4,
 "nbformat_minor": 2
}
